{
 "cells": [
  {
   "cell_type": "markdown",
   "id": "ba8b314d",
   "metadata": {},
   "source": [
    "## EarthCARE ESA MAAP Data Access Example  "
   ]
  },
  {
   "cell_type": "markdown",
   "id": "b3e3da82",
   "metadata": {},
   "source": [
    "@ ESA, 2025\n",
    "= Licensed under \"European Space Agency Community License\" \n",
    "\n",
    "Author: Saskia Brose (saskia.brose@esa.int)\n",
    "\n",
    "Date: 18-09-2025\n",
    "\n",
    "---\n",
    "\n",
    "This script shows how to query the ESA MAAP catalog, stream/download EarthCARE data, and the plot the cloud water path and cloud top tempetaure"
   ]
  },
  {
   "cell_type": "markdown",
   "id": "6f177d87",
   "metadata": {},
   "source": [
    "### Prerequisities"
   ]
  },
  {
   "cell_type": "code",
   "execution_count": null,
   "id": "b09e42b4-975a-45de-9a5b-cfbd28869bd9",
   "metadata": {},
   "outputs": [],
   "source": [
    "from pystac_client import Client\n",
    "import fsspec\n",
    "import xarray as xr\n",
    "import matplotlib.pyplot as plt\n",
    "from tqdm import tqdm\n",
    "import pandas as pd \n",
    "import requests\n",
    "from IPython.display import Image, display\n",
    "import pathlib"
   ]
  },
  {
   "cell_type": "markdown",
   "id": "1bd0febb-28fa-46c7-a482-8dd2633445a0",
   "metadata": {},
   "source": [
    "### Using the STAC API to query the ESA MAAP stac catalog\n",
    "While the discovery of data (querying the ESA MAAP catalogue) does not require any authentication or authorization, accessing the data requires a token generated with an authorized eoiam account (EO Sign in) to verify the user. This is the same account and credentials you will have used for the OADS system.\n",
    "\n",
    "Currently this token is valid for 12 h, in the near future this token will be longer-lasting and a refresh option to better support M2M processes. "
   ]
  },
  {
   "cell_type": "code",
   "execution_count": null,
   "id": "8bd1e4d3-d923-40a8-a50d-fd8b2c9ad47a",
   "metadata": {},
   "outputs": [],
   "source": [
    "catalog_url = 'https://catalog.maap.eo.esa.int/catalogue/'\n",
    "catalog = Client.open(catalog_url)"
   ]
  },
  {
   "cell_type": "markdown",
   "id": "7708d3c5",
   "metadata": {},
   "source": [
    "The EarthCARE collections have the same name as previously on OADS, but have the extension `_MAAP` to distinguish them from the OADS collections. Currently the latest two baselines are provided and there are 12 collections: \n",
    "\n",
    "* EarthCAREL1Validated_MAAP\n",
    "* EarthCAREL2Validated_MAAP \n",
    "* JAXAL2Validated_MAAP\n",
    "* EarthCAREL1InstChecked_MAAP\n",
    "* EarthCAREL2InstChecked_MAAP \n",
    "* JAXAL2InstChecked_MAAP\n",
    "* EarthCAREL01L1Products_MAAP\n",
    "* EarthCAREL2Products_MAAP\n",
    "* EarthCAREXMETL1DProducts10_MAAP\n",
    "* JAXAL2Products_MAAP\n",
    "* EarthCAREOrbitData_MAAP\n",
    "* EarthCAREAuxiliary_MAAP"
   ]
  },
  {
   "cell_type": "code",
   "execution_count": null,
   "id": "34b24a50",
   "metadata": {},
   "outputs": [],
   "source": [
    "# Select one collection\n",
    "EC_COLLECTION = ['EarthCAREL2Validated_MAAP']"
   ]
  },
  {
   "cell_type": "markdown",
   "id": "4bded3bf",
   "metadata": {},
   "source": [
    "The **second** step is to further narrow down your search: \n",
    "\n",
    "**Datetime** represents the temporal coverage of the data. None can be used for both start and end to indicated unbounded queries.  \n",
    "\n",
    "**bbox** is defined by the bottom left corner (longmin latmin) and the top right corner coordinates (longmax latmax). \n",
    "\n",
    "----\n",
    "\n",
    "\n",
    "**Filter** – allows you to search based on different metadata parameters.  \n",
    "To understand which queryables exist, you can visit:  \n",
    "`https://catalog.maap.eo.esa.int/catalogue/collections/<insertcollectionname>/queryables`\n",
    "Examples include: \n",
    "* productType\n",
    "* frame \n",
    "* processingLevel\n",
    "* instrument\n",
    "* orbitNumber \n",
    "\n"
   ]
  },
  {
   "cell_type": "code",
   "execution_count": null,
   "id": "479e62a9-94f6-40d6-abe1-d9a45261a4fd",
   "metadata": {},
   "outputs": [],
   "source": [
    "search = catalog.search(\n",
    "    collections=EC_COLLECTION, \n",
    "    filter=\"productType = 'MSI_COP_2A' and frame = 'E' \", # Filter by product type\n",
    "    bbox = [0, -20, 10, -10],\n",
    "    #datetime = ['2025-06-06T00:00:00Z', None] \n",
    "    method = 'GET', # This is necessary \n",
    "    max_items=5  # Adjust as needed, given the large amount of products it is recommended to set a limit if especially if you display results in pandas dataframe or similiar\n",
    ")\n",
    "\n",
    "items = list(search.items())\n",
    "print(f\"Accessing {len(items)} items (limited by max_items).\")\n",
    "print(f\"{search.matched()} items found that matched the query.\")"
   ]
  },
  {
   "cell_type": "markdown",
   "id": "04a16204",
   "metadata": {},
   "source": [
    "### Results"
   ]
  },
  {
   "cell_type": "markdown",
   "id": "eea4c2ff",
   "metadata": {},
   "source": [
    "Understanding Assets in the ESA MAAP STAC Catalog: Each granule (one frame of EarthCARE data per product) includes multiple **assets**, which are different files that serve distinct purposes. These assets can include preview images, scientific data, metadata, and more.\n",
    "\n",
    "**Types of assets in a granule**:\n",
    "\n",
    "| **Asset Name**        | **Description**                                                                 | **File Type** | **Purpose / Use**                                 |\n",
    "|------------------------|---------------------------------------------------------------------------------|---------------|---------------------------------------------------|\n",
    "| thumbnail / quicklook | Preview images of the granule area                                              | .jpeg       | Quick visual inspection                           |\n",
    "| enclosure_1         | Main scientific data file (e.g. EarthCARE Level 1B product)                          | .h5         | Use this for streaming or downloading the file(s) of interest.       |\n",
    "| enclosure_2         | Header file with additional metadata for the data file                          | .HDR        | Provides structural information for .h5 file    |\n",
    "| product             | Complete zipped product bundle                                                   | .zip        | For full download (not recommended unless necessary)  |\n",
    "| metadata_ogc_10_157r4, metadata_ogc_17_003r2, metadata_iso_19139 | Metadata files for cataloging and discovery | .xml, .json |              |\n",
    "\n",
    "\n",
    "**Tips**: \n",
    "\n",
    "- **Want a quick look?** Use the quicklook or thumbnail to preview the data.\n",
    "- **Need to analyze?** Work with the enclosure_1 (the .h5 file)   this is demonstrated in the next cells.\n",
    "- **Don't need everything?** Avoid the .zip unless you really need to download all files.\n",
    "- **Curious about metadata?** Open the XML/JSON metadata files for detailed info.\n",
    "\n"
   ]
  },
  {
   "cell_type": "code",
   "execution_count": null,
   "id": "4d820f5b",
   "metadata": {},
   "outputs": [],
   "source": [
    "# Access the first item only\n",
    "item = items[0]\n",
    "\n",
    "print(f\"Item 0 — ID: {item.id if hasattr(item, 'id') else item.get('id')}\")\n",
    "\n",
    "# If item is a pystac.Item\n",
    "try:\n",
    "    assets = item.assets\n",
    "except AttributeError:\n",
    "    # If item is a dict\n",
    "    assets = item.get(\"assets\", {})\n",
    "\n",
    "if assets:\n",
    "    print(\"  Available asset keys:\")\n",
    "    for key in assets.keys():\n",
    "        print(\"   -\", key)\n",
    "else:\n",
    "    print(\"  No assets found for this item.\")"
   ]
  },
  {
   "cell_type": "code",
   "execution_count": null,
   "id": "b176b4be",
   "metadata": {},
   "outputs": [],
   "source": [
    "# Using Pandas dataframes for ease of use. This is not mandatory, but just a nice way to get an overview of the products you found through the search. Please note that pandas dataframes run into issues if we try to pass to many products. Use max_items! :) \n",
    "data = search.item_collection_as_dict()\n",
    "\n",
    "df = pd.json_normalize(data, record_path=['features'])[\n",
    "    [\n",
    "        \"id\",\n",
    "        \"properties.product:type\",                \n",
    "        \"properties.updated\",                     \n",
    "        \"assets.product.href\",\n",
    "        #\"assets.thumbnail.href\",\n",
    "        \"assets.quicklook.href\",\n",
    "        \"assets.enclosure_1.href\",\n",
    "        \"assets.enclosure_2.href\",\n",
    "    ]\n",
    "]\n",
    "\n",
    "# Renaming the assets for \n",
    "df.rename(columns={\n",
    "    'properties.product:type': 'product_type',\n",
    "    'properties.updated': 'last_modified',\n",
    "    'assets.product.href': 'Zipped Product',\n",
    "    #'assets.thumbnail.href': 'thumbnail_url',\n",
    "    'assets.quicklook.href': 'quicklook_url',\n",
    "    'assets.enclosure_1.href': 'h5_url',\n",
    "    'assets.enclosure_2.href': 'HDR_url',\n",
    "}, inplace=True)\n",
    "\n",
    "df.sort_values(by='id', ascending=True, inplace=True)\n"
   ]
  },
  {
   "cell_type": "code",
   "execution_count": null,
   "id": "36370f97",
   "metadata": {},
   "outputs": [],
   "source": [
    "df"
   ]
  },
  {
   "cell_type": "markdown",
   "id": "f9d42636",
   "metadata": {},
   "source": [
    "### Quicklook of the data\n",
    "\n",
    "You don't need to authenticate or authorize to preview the data.  \n",
    "By referencing the `thumbnail` asset, you're accessing a remote URL where a quicklook image of the product is stored.  \n",
    "This provides a fast and convenient way to visually inspect the data before downloading or processing it.\n"
   ]
  },
  {
   "cell_type": "code",
   "execution_count": null,
   "id": "8e2b1093",
   "metadata": {},
   "outputs": [],
   "source": [
    "# Choose the file you want to view/stream/download \n",
    "\n",
    "fileno = 2 # Adjust this as desired \n",
    "ql_url = df.loc[fileno, \"quicklook_url\"]\n",
    "# Note: thumbnail is a lower resolution version\n",
    "display(Image(url= ql_url))\n"
   ]
  },
  {
   "cell_type": "markdown",
   "id": "96847967",
   "metadata": {},
   "source": [
    "### Token\n",
    "Paste your token below or save it in a token.txt. The latter approach is recommended.\n",
    "\n",
    "You can generate the token [here](https://portal.maap.eo.esa.int/ini/services/auth/token/index.php). Currently this is only valid for 10 h! \n"
   ]
  },
  {
   "cell_type": "code",
   "execution_count": null,
   "id": "4c778c39",
   "metadata": {},
   "outputs": [],
   "source": [
    "# Optional \n",
    "_TOKEN = ''"
   ]
  },
  {
   "cell_type": "code",
   "execution_count": null,
   "id": "42c97c55-4621-427f-bc44-9414bb18feee",
   "metadata": {},
   "outputs": [],
   "source": [
    "# Better practice than pasting your token in the cell above\n",
    "if pathlib.Path(\"token_yourname.txt\").exists():\n",
    "  with open(\"token_yourname.txt\",\"rt\") as f:\n",
    "    token = f.read().strip().replace(\"\\n\",\"\")\n",
    "    print(token)\n",
    "else:\n",
    "  token=_TOKEN"
   ]
  },
  {
   "cell_type": "markdown",
   "id": "bb0cbe60",
   "metadata": {},
   "source": [
    "## Stream and plot data"
   ]
  },
  {
   "cell_type": "code",
   "execution_count": null,
   "id": "2aed572e-53e2-400a-9802-f513d3eb8b4a",
   "metadata": {},
   "outputs": [],
   "source": [
    "# Fetching the url of the desired file\n",
    "ds_url = df.loc[fileno, \"h5_url\"]\n",
    "print(ds_url)\n"
   ]
  },
  {
   "cell_type": "markdown",
   "id": "bcfa5a71",
   "metadata": {},
   "source": [
    "Before we stream the data we pass some parameters for cloud-optimized performance. NetCDF formats are not originally structured in a cloud-optimized way. This lets us chunk our data for better performance. This not mandatory but speeds up data access.\n",
    "\n",
    "More information to this approach can be found [here](https://guide.cloudnativegeo.org/cloud-optimized-netcdf4-hdf5/)."
   ]
  },
  {
   "cell_type": "code",
   "execution_count": null,
   "id": "d11eebbd",
   "metadata": {},
   "outputs": [],
   "source": [
    "io_params = {\n",
    "    \"fsspec_params\": {\n",
    "        \"cache_type\": \"blockcache\",\n",
    "        \"block_size\": 8 * 1024 * 1024\n",
    "    },\n",
    "    \"h5py_params\": {\n",
    "        \"driver_kwds\": {\n",
    "            \"rdcc_nbytes\": 8 * 1024 * 1024\n",
    "        }\n",
    "    }\n",
    "}"
   ]
  },
  {
   "cell_type": "code",
   "execution_count": null,
   "id": "0361c9d0",
   "metadata": {},
   "outputs": [],
   "source": [
    "fs = fsspec.filesystem(\n",
    "    \"https\", \n",
    "    headers={\"Authorization\": f\"Bearer {token}\"}, \n",
    "    **io_params[\"fsspec_params\"]  )\n",
    "\n",
    "# Open the file and read it into an xarray Dataset\n",
    "with fs.open(ds_url, \"rb\") as f:\n",
    "    ds = xr.open_dataset(f, \n",
    "                         engine=\"h5netcdf\", \n",
    "                         **io_params[\"h5py_params\"],  \n",
    "                         group=\"ScienceData\")\n",
    "\n",
    "    # Do something with ds! Here we plot two variables as an example.\n",
    "    fig, axes = plt.subplots(1, 2, figsize=(14, 6))\n",
    "\n",
    "    # Plot Cloud Water Path\n",
    "    ds[\"cloud_water_path\"].plot(ax=axes[0], cmap=\"Blues\")\n",
    "    axes[0].set_title(\"Cloud Water Path\")\n",
    "\n",
    "    # Plot Cloud Top Temperature\n",
    "    ds[\"cloud_top_temperature\"].plot(ax=axes[1], cmap=\"plasma\")\n",
    "    axes[1].set_title(\"Cloud Top Temperature\")\n",
    "\n",
    "    plt.tight_layout()\n",
    "    plt.show()"
   ]
  },
  {
   "cell_type": "markdown",
   "id": "d29ce1c7",
   "metadata": {},
   "source": [
    "## Download data \n",
    "You can also use your token and the url to download data and not just stream it."
   ]
  },
  {
   "cell_type": "code",
   "execution_count": null,
   "id": "cd9ff1fe-cd2e-4674-9d6f-3a4d6783d851",
   "metadata": {},
   "outputs": [],
   "source": [
    "def download_file_with_bearer_token(url, token, disable_bar=False):\n",
    "  \"\"\"\n",
    "  Downloads a file from a given URL using a Bearer token.\n",
    "  \"\"\"\n",
    "\n",
    "  try:\n",
    "    headers = {\"Authorization\": f\"Bearer {token}\"}\n",
    "    response = requests.get(url, headers=headers, stream=True)\n",
    "    response.raise_for_status()  # Raise an exception for bad status codes\n",
    "    file_size = int(response.headers.get('content-length', 0))\n",
    "\n",
    "    chunk_size = 8 * 1024 * 1024 # Byes - 1MiB\n",
    "    file_path = url.rsplit('/', 1)[-1] \n",
    "    print(file_path)\n",
    "    with open(file_path, \"wb\") as f, tqdm(\n",
    "        desc=file_path,\n",
    "        total=file_size,\n",
    "        unit='iB',\n",
    "        unit_scale=True,\n",
    "        unit_divisor=1024,\n",
    "        disable=disable_bar,\n",
    "      ) as bar:\n",
    "      for chunk in response.iter_content(chunk_size=chunk_size):\n",
    "        read_size=f.write(chunk)\n",
    "        bar.update(read_size)\n",
    "\n",
    "    if (disable_bar): \n",
    "      print(f\"File downloaded successfully to {file_path}\")\n",
    "\n",
    "  except requests.exceptions.RequestException as e:\n",
    "    print(f\"Error downloading file: {e}\")"
   ]
  },
  {
   "cell_type": "code",
   "execution_count": null,
   "id": "b645a3de",
   "metadata": {},
   "outputs": [],
   "source": [
    "download_file_with_bearer_token(ds_url, token)"
   ]
  },
  {
   "cell_type": "code",
   "execution_count": null,
   "id": "0bdca54b",
   "metadata": {},
   "outputs": [],
   "source": []
  }
 ],
 "metadata": {
  "kernelspec": {
   "display_name": "psNd",
   "language": "python",
   "name": "python3"
  },
  "language_info": {
   "codemirror_mode": {
    "name": "ipython",
    "version": 3
   },
   "file_extension": ".py",
   "mimetype": "text/x-python",
   "name": "python",
   "nbconvert_exporter": "python",
   "pygments_lexer": "ipython3",
   "version": "3.12.7"
  }
 },
 "nbformat": 4,
 "nbformat_minor": 5
}
