{
 "cells": [
  {
   "cell_type": "markdown",
   "id": "2da9c07e-0a4e-4f63-be2e-8542f9b22e48",
   "metadata": {},
   "source": [
    "# Getting to know ESA MAAP's new data access in 15 min"
   ]
  },
  {
   "cell_type": "markdown",
   "id": "aaae3414-3038-41fc-950e-490569588607",
   "metadata": {},
   "source": [
    "## Before Starting "
   ]
  },
  {
   "cell_type": "markdown",
   "id": "4600140a-c424-4c35-a6e4-ed7c23e82dc4",
   "metadata": {},
   "source": [
    "### Prerequisites "
   ]
  },
  {
   "cell_type": "code",
   "execution_count": null,
   "id": "eb8958e3-bdd0-4956-ba9d-572458a3c7f0",
   "metadata": {},
   "outputs": [],
   "source": [
    "# %pip install pystac_client h5py requests aiohttp h5netcdf "
   ]
  },
  {
   "cell_type": "code",
   "execution_count": null,
   "id": "da9e627c-118c-43eb-8375-e1467ecc448c",
   "metadata": {},
   "outputs": [],
   "source": [
    "from pystac_client import Client\n",
    "import fsspec\n",
    "import xarray as xr\n",
    "import h5py\n",
    "import matplotlib.pyplot as plt\n",
    "import matplotlib.colors as mcolors\n",
    "from IPython.display import Image, display\n",
    "import pathlib\n",
    "import pandas as pd"
   ]
  },
  {
   "cell_type": "markdown",
   "id": "16c311b4-81ad-40d5-8a62-e61d95291b20",
   "metadata": {},
   "source": [
    "## How to access data\n",
    "\n",
    "To access EarthCARE data **without downloading entire files manually**, you can **stream the data directly into your Python script** using the STAC API and python libraries like `fsspec` and `xarray`.\n"
   ]
  },
  {
   "cell_type": "markdown",
   "id": "c80c86d7-09a1-473a-a77c-d9b7b69610c4",
   "metadata": {},
   "source": [
    "### 1. Get an Access Token\n",
    "\n",
    "While most EarthCARE data is open and free it still is protected and requires authentication. Certain collections require more advanced authorization, such as collections only for the Commissioning Team or Cal/Val users.\n",
    "\n",
    "So you need an **access token** to check what type of user you are and to then read or download the data: \n",
    "\n",
    "👉 Generate your token here: [MAAP Token](https://portal.maap.eo.esa.int/ini/services/auth/token/index.php)\n",
    "\n",
    "- The token is like a password that tells the server: \"This user is allowed to access this data.\"\n",
    "- It is currently valid for **10 h**.\n",
    "- Your authorization rights are mapped from eo-login, so you should be able to access the same data as on OADS.\n",
    "- You can regenerate it anytime and paste the token string into your scripts, or save your token in a separate file."
   ]
  },
  {
   "cell_type": "code",
   "execution_count": null,
   "id": "6d501353-16d0-494a-b7b9-bc7aa47cab05",
   "metadata": {},
   "outputs": [],
   "source": [
    "# Save your token here or save it in token.txt which should be located in the same directory as this script \n",
    "# _TOKEN = ''\n",
    "if pathlib.Path(\"token.txt\").exists():\n",
    "  with open(\"token.txt\",\"rt\") as f:\n",
    "    token = f.read().strip().replace(\"\\n\",\"\")\n",
    "else:\n",
    "  token=_TOKEN"
   ]
  },
  {
   "cell_type": "markdown",
   "id": "701beac6-d6ff-4208-8cac-801a988deafe",
   "metadata": {},
   "source": [
    "### 2. Catalog Query\n",
    "\n",
    "EarthCARE data, along with data from other EO science missions (Earth Explorers, TPMs, Heritage missions), is stored in an object storage and made accessible via a STAC (SpatioTemporal Asset Catalog) catalog. STAC catalogs provide a standardized, flexible way to describe geospatial data, making it easier to search, discover, and retrieve datasets. The following steps show how to use the STAC API to query the catalog and retrieve the url (https) with which you can then remotely read the data.\n",
    "\n",
    "Find out more about EarthCARE Data (product definitions): https://earthcarehandbook.earth.esa.int/  \n",
    "The Collections available on ESA MAAP are the following: \n",
    "\n",
    "**COLLECTIONS (open and free)**:\n",
    "* Level 1 Data: EarthCAREL1Validated_MAAP\n",
    "* Level 2 Data: EarthCAREL2Validated_MAAP\n",
    "\n",
    "**COLLECTIONS (Cal/Val)**:\n",
    "* Level 1 Data: EarthCAREL1InstChecked_MAAP\n",
    "* Level 2 Data: EarthCAREL2InstChecked_MAAP\n",
    "\n",
    "**COLLECTIONS (Commissioning)**:\n",
    "* Level 0 and 1 Data: EarthCAREL0L1Products_MAAP\n",
    "* Level 2 Data: EarthCAREL2Products_MAAP"
   ]
  },
  {
   "cell_type": "code",
   "execution_count": null,
   "id": "aea43914-3287-4cec-ae4d-1c5a5a16f090",
   "metadata": {},
   "outputs": [],
   "source": [
    "# Point to catalogue endpoint (STAC API) \n",
    "catalog_url = 'https://catalog.maap.eo.esa.int/catalogue/'\n",
    "catalog = Client.open(catalog_url)"
   ]
  },
  {
   "cell_type": "code",
   "execution_count": null,
   "id": "70496ed2-068b-4285-9d2d-e26700a72a85",
   "metadata": {},
   "outputs": [],
   "source": [
    "# Use API to query the catalogue\n",
    "search = catalog.search(\n",
    "    \n",
    "    # STEP 1 (manatory): Define a collection -- see naming convention above\n",
    "    collections = [\"EarthCAREL2Validated_MAAP\"], # Level 2 open and free\n",
    "\n",
    "    # STEP 2 (optional): Apply different filters \n",
    "    \n",
    "    # Filter by product type or other parameters: frame, orbit number, etc. \n",
    "    filter=\"productType = 'ATL_FM__2A' and frame = 'E'\",\n",
    "    \n",
    "    # BOUNDING BOX is defined by the bottom left corner (longmin latmin) and the top right corner coordinates (longmax latmax) \n",
    "    bbox = [0, -20, 10, -10], \n",
    "\n",
    "    # DATETIME can be a range, or just a start or endtime \n",
    "    datetime=['2025-06-20T00:00:00Z', '2025-07-01T00:00:00Z'],\n",
    "\n",
    "    # This is optional, and can be removed,\n",
    "    max_items=5,  # Adjust as needed\n",
    "\n",
    "    method = 'GET' # do not remove \n",
    ")"
   ]
  },
  {
   "cell_type": "markdown",
   "id": "ee733989-aa9f-4e79-88c5-a66539fded25",
   "metadata": {},
   "source": [
    "Our search returns **items**, each item represents a spatiotemporal asset (one granule, e.g. an EarthCARE file). Each item has, an `id` and an `assets` dictionary -- where each case is a named asset. For EarthCARE data we will have a look at: \n",
    "\n",
    "* enclosure_1: This is where the .h5 (data) is stored.\n",
    "* product: This is the url to the entire zipped product (.h5 an .HDR)\n",
    "* thumbnail: This contains the link to a quicklook of the product.\n"
   ]
  },
  {
   "cell_type": "code",
   "execution_count": null,
   "id": "30d292d4-c6c4-4be8-931c-abf01f596490",
   "metadata": {},
   "outputs": [],
   "source": [
    "results = {\n",
    "    item.id: {\n",
    "        \"enclosure_1\": item.assets.get(\"enclosure_1\").href if \"enclosure_1\" in item.assets else None,\n",
    "        \"product\": item.assets.get(\"product\").href if \"product\" in item.assets else None,\n",
    "        \"thumbnail\": item.assets.get(\"thumbnail\").href if \"thumbnail\" in item.assets else None,\n",
    "    }\n",
    "    for item in search.items()\n",
    "}\n",
    "print(f\"Your search returned {len(results)} items.\")\n",
    "if results:\n",
    "    print(\"\\nAvailable item IDs:\")\n",
    "    keys = list(results.keys())  # Convert keys to list for indexing\n",
    "    for idx, item_id in enumerate(keys, start=1):\n",
    "        print(f\"{idx}. {item_id}\")\n",
    "        \n",
    "print(f\"\\nIn the next cell please select one of the items\")"
   ]
  },
  {
   "cell_type": "code",
   "execution_count": null,
   "id": "db02009f-ba2e-4fb0-a7c5-3e0bbe79f538",
   "metadata": {},
   "outputs": [],
   "source": [
    "selected_id = 1  # Change this number as desired\n",
    "\n",
    "if 1 <= selected_id <= len(keys):\n",
    "    chosen_key = keys[selected_id - 1]  # map number to key\n",
    "    print(f\"Selected item ID: {chosen_key}\")"
   ]
  },
  {
   "cell_type": "markdown",
   "id": "0643ce2f-908d-41ca-a4a2-3026c9774eb6",
   "metadata": {},
   "source": [
    "### 4. Quicklook"
   ]
  },
  {
   "cell_type": "code",
   "execution_count": null,
   "id": "b932e901-99e2-4856-8697-9c66e5927cce",
   "metadata": {},
   "outputs": [],
   "source": [
    "# Get the thumbnail URL\n",
    "thumbnail_url = results[chosen_key].get(\"thumbnail\")\n",
    "\n",
    "# Display the image if it exists\n",
    "if thumbnail_url:\n",
    "    display(Image(url=thumbnail_url))\n",
    "else:\n",
    "    print(\"No thumbnail found for the first item.\")\n"
   ]
  },
  {
   "cell_type": "markdown",
   "id": "4f89646b-8c0e-4ac9-bfb0-79e8fd8b889f",
   "metadata": {},
   "source": [
    "### 4. Reading Remote Data On-the-Fly with `fsspec` and `xarray` \n",
    "(No Download Required)! "
   ]
  },
  {
   "cell_type": "code",
   "execution_count": null,
   "id": "f7a95d0e-e3ac-4de9-9c55-86ba008a8c0d",
   "metadata": {},
   "outputs": [],
   "source": [
    "data_href = results[chosen_key].get(\"enclosure_1\")\n",
    "fs = fsspec.filesystem(\"https\", headers={\"Authorization\": f\"Bearer {token}\"})\n",
    "f = fs.open(data_href, \"rb\")  \n",
    "ds = xr.open_dataset(f, engine=\"h5netcdf\", group=\"ScienceData\")\n",
    "ds"
   ]
  },
  {
   "cell_type": "code",
   "execution_count": null,
   "id": "8d836682-db40-4e45-90ea-dbcb1834ff5c",
   "metadata": {},
   "outputs": [],
   "source": [
    "# Let's actually plot our data! \n",
    "ds[\"featuremask\"].plot(x=\"along_track\", y=\"ATLID_height\") "
   ]
  },
  {
   "cell_type": "markdown",
   "id": "9e0edb59-55cb-4d97-9f23-5a13984e99a9",
   "metadata": {},
   "source": [
    "Our plot doesn't look quite right compared to the quicklook -- let's clean it up! "
   ]
  },
  {
   "cell_type": "code",
   "execution_count": null,
   "id": "7dd81756-e0e2-4b30-b3dd-63eb4a5a8a2f",
   "metadata": {},
   "outputs": [],
   "source": [
    "# Define the discrete feature mask classes (matching your classification values)\n",
    "classes = [-3, -2, -1, 0, 1, 2, 3, 4, 5, 6, 7, 8, 9, 10]\n",
    "colors = [\n",
    "    \"#000000\",  # -3: Surface\n",
    "    \"#999999\",  # -2: No retrievals \n",
    "    \"#0000ff\",  # -1: Attenuated \n",
    "    \"#c0efff\",  # 0: Clear Sky\n",
    "    \"#40cfff\",  # 1: Likely clear sky \n",
    "    \"#40cfff\",  # 2: Likely clear sky \n",
    "    \"#40cfff\",  # 3: Likely clear sky \n",
    "    \"#40cfff\",  # 4: Likely clear sky \n",
    "    \"#cccc99\",  # 5: Low altitude aerosols \n",
    "    \"#ffff66\",  # 6: Aerosol/thin cloud \n",
    "    \"#ffff66\",  # 7: Aerosol/thin cloud \n",
    "    \"#ff6600\",  # 8: Thick aerosol/cloud \n",
    "    \"#ff6600\",  # 9: Thick aerosol/cloud\n",
    "    \"#990000\",  # 10: Thick cloud \n",
    "]\n",
    "\n",
    "# Since you have 14 classes, create colormap with these colors\n",
    "cmap = mcolors.ListedColormap(colors)\n",
    "\n",
    "\n",
    "# Labels for colorbar ticks, in order of the classes:\n",
    "labels = [\n",
    "    \"Surface\",\n",
    "    \"No retrievals\",\n",
    "    \"Attenuated\",\n",
    "    \"Clear Sky\",\n",
    "    \"Likely clear sky\",\n",
    "    \"Likely clear sky\",\n",
    "    \"Likely clear sky\",\n",
    "    \"Likely clear sky\",\n",
    "    \"Low altitude aerosols\",\n",
    "    \"Aerosol/thin cloud\",\n",
    "    \"Aerosol/thin cloud\",\n",
    "    \"Thick aerosol/cloud\",\n",
    "    \"Thick aerosol/cloud\",\n",
    "    \"Thick cloud\",\n",
    "]\n",
    "\n",
    "# Plotting\n",
    "#ds = ds.assign_coords(height_km=ds[\"height\"] / 1000.0)\n",
    "ds = ds.assign_coords(\n",
    "    latitude=ds[\"latitude\"],\n",
    "    longitude=ds[\"longitude\"],\n",
    "    height_km=ds[\"height\"] / 1000.0\n",
    ")\n",
    "\n",
    "quadmesh = ds[\"featuremask\"].plot(\n",
    "    x=\"latitude\",\n",
    "    y=\"height_km\",\n",
    "    cmap=cmap,\n",
    "    figsize=(14, 6),\n",
    "    vmin=-3,\n",
    "    vmax=10,\n",
    ")\n",
    "\n",
    "quadmesh.axes.set_ylim(0, 30)\n",
    "quadmesh.axes.set_ylabel(\"Height [km]\")\n",
    "quadmesh.axes.set_xlabel(\"Latitude\")\n",
    "\n",
    "quadmesh.axes.set_title(\"ATLID Feature Mask\")\n",
    "\n",
    "# Adjust colorbar ticks and labels\n",
    "cbar = quadmesh.colorbar\n",
    "cbar.set_ticks(classes)\n",
    "cbar.set_ticklabels(labels)\n",
    "cbar.set_label(\"Feature Mask Classification\")"
   ]
  }
 ],
 "metadata": {
  "kernelspec": {
   "display_name": "Python 3 (ipykernel)",
   "language": "python",
   "name": "python3"
  },
  "language_info": {
   "codemirror_mode": {
    "name": "ipython",
    "version": 3
   },
   "file_extension": ".py",
   "mimetype": "text/x-python",
   "name": "python",
   "nbconvert_exporter": "python",
   "pygments_lexer": "ipython3",
   "version": "3.12.8"
  }
 },
 "nbformat": 4,
 "nbformat_minor": 5
}
